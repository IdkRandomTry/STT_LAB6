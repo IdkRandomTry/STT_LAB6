{
 "cells": [
  {
   "cell_type": "code",
   "execution_count": 2,
   "id": "bd616c49",
   "metadata": {},
   "outputs": [
    {
     "name": "stdout",
     "output_type": "stream",
     "text": [
      "Requirement already satisfied: pandas in c:\\users\\siddhesh\\appdata\\local\\programs\\python\\python313\\lib\\site-packages (2.3.2)\n",
      "Requirement already satisfied: semgrep in c:\\users\\siddhesh\\appdata\\local\\programs\\python\\python313\\lib\\site-packages (1.140.0)\n",
      "Requirement already satisfied: numpy>=1.26.0 in c:\\users\\siddhesh\\appdata\\local\\programs\\python\\python313\\lib\\site-packages (from pandas) (2.3.2)\n",
      "Requirement already satisfied: python-dateutil>=2.8.2 in c:\\users\\siddhesh\\appdata\\local\\programs\\python\\python313\\lib\\site-packages (from pandas) (2.9.0.post0)\n",
      "Requirement already satisfied: pytz>=2020.1 in c:\\users\\siddhesh\\appdata\\local\\programs\\python\\python313\\lib\\site-packages (from pandas) (2025.2)\n",
      "Requirement already satisfied: tzdata>=2022.7 in c:\\users\\siddhesh\\appdata\\local\\programs\\python\\python313\\lib\\site-packages (from pandas) (2025.2)\n",
      "Requirement already satisfied: attrs>=21.3 in c:\\users\\siddhesh\\appdata\\local\\programs\\python\\python313\\lib\\site-packages (from semgrep) (25.3.0)\n",
      "Requirement already satisfied: boltons~=21.0 in c:\\users\\siddhesh\\appdata\\local\\programs\\python\\python313\\lib\\site-packages (from semgrep) (21.0.0)\n",
      "Requirement already satisfied: click-option-group~=0.5 in c:\\users\\siddhesh\\appdata\\local\\programs\\python\\python313\\lib\\site-packages (from semgrep) (0.5.9)\n",
      "Requirement already satisfied: click~=8.1.8 in c:\\users\\siddhesh\\appdata\\local\\programs\\python\\python313\\lib\\site-packages (from semgrep) (8.1.8)\n",
      "Requirement already satisfied: colorama~=0.4.0 in c:\\users\\siddhesh\\appdata\\local\\programs\\python\\python313\\lib\\site-packages (from semgrep) (0.4.6)\n",
      "Requirement already satisfied: defusedxml~=0.7.1 in c:\\users\\siddhesh\\appdata\\local\\programs\\python\\python313\\lib\\site-packages (from semgrep) (0.7.1)\n",
      "Requirement already satisfied: exceptiongroup~=1.2.0 in c:\\users\\siddhesh\\appdata\\local\\programs\\python\\python313\\lib\\site-packages (from semgrep) (1.2.2)\n",
      "Requirement already satisfied: glom~=22.1 in c:\\users\\siddhesh\\appdata\\local\\programs\\python\\python313\\lib\\site-packages (from semgrep) (22.1.0)\n",
      "Requirement already satisfied: mcp==1.16.0 in c:\\users\\siddhesh\\appdata\\local\\programs\\python\\python313\\lib\\site-packages (from semgrep) (1.16.0)\n",
      "Requirement already satisfied: opentelemetry-api~=1.37.0 in c:\\users\\siddhesh\\appdata\\local\\programs\\python\\python313\\lib\\site-packages (from semgrep) (1.37.0)\n",
      "Requirement already satisfied: opentelemetry-sdk~=1.37.0 in c:\\users\\siddhesh\\appdata\\local\\programs\\python\\python313\\lib\\site-packages (from semgrep) (1.37.0)\n",
      "Requirement already satisfied: opentelemetry-exporter-otlp-proto-http~=1.37.0 in c:\\users\\siddhesh\\appdata\\local\\programs\\python\\python313\\lib\\site-packages (from semgrep) (1.37.0)\n",
      "Requirement already satisfied: opentelemetry-instrumentation-requests~=0.58b0 in c:\\users\\siddhesh\\appdata\\local\\programs\\python\\python313\\lib\\site-packages (from semgrep) (0.58b0)\n",
      "Requirement already satisfied: packaging>=21.0 in c:\\users\\siddhesh\\appdata\\local\\programs\\python\\python313\\lib\\site-packages (from semgrep) (25.0)\n",
      "Requirement already satisfied: peewee~=3.14 in c:\\users\\siddhesh\\appdata\\local\\programs\\python\\python313\\lib\\site-packages (from semgrep) (3.18.2)\n",
      "Requirement already satisfied: requests~=2.22 in c:\\users\\siddhesh\\appdata\\local\\programs\\python\\python313\\lib\\site-packages (from semgrep) (2.32.4)\n",
      "Requirement already satisfied: rich~=13.5.2 in c:\\users\\siddhesh\\appdata\\local\\programs\\python\\python313\\lib\\site-packages (from semgrep) (13.5.3)\n",
      "Requirement already satisfied: ruamel.yaml>=0.18.15 in c:\\users\\siddhesh\\appdata\\local\\programs\\python\\python313\\lib\\site-packages (from semgrep) (0.18.15)\n",
      "Requirement already satisfied: ruamel.yaml.clib==0.2.14 in c:\\users\\siddhesh\\appdata\\local\\programs\\python\\python313\\lib\\site-packages (from semgrep) (0.2.14)\n",
      "Requirement already satisfied: tomli~=2.0.1 in c:\\users\\siddhesh\\appdata\\local\\programs\\python\\python313\\lib\\site-packages (from semgrep) (2.0.2)\n",
      "Requirement already satisfied: typing-extensions~=4.2 in c:\\users\\siddhesh\\appdata\\local\\programs\\python\\python313\\lib\\site-packages (from semgrep) (4.14.1)\n",
      "Requirement already satisfied: urllib3~=2.0 in c:\\users\\siddhesh\\appdata\\local\\programs\\python\\python313\\lib\\site-packages (from semgrep) (2.5.0)\n",
      "Requirement already satisfied: wcmatch~=8.3 in c:\\users\\siddhesh\\appdata\\local\\programs\\python\\python313\\lib\\site-packages (from semgrep) (8.5.2)\n",
      "Requirement already satisfied: pywin32==311 in c:\\users\\siddhesh\\appdata\\local\\programs\\python\\python313\\lib\\site-packages (from semgrep) (311)\n",
      "Requirement already satisfied: anyio>=4.5 in c:\\users\\siddhesh\\appdata\\local\\programs\\python\\python313\\lib\\site-packages (from mcp==1.16.0->semgrep) (4.10.0)\n",
      "Requirement already satisfied: httpx-sse>=0.4 in c:\\users\\siddhesh\\appdata\\local\\programs\\python\\python313\\lib\\site-packages (from mcp==1.16.0->semgrep) (0.4.3)\n",
      "Requirement already satisfied: httpx>=0.27.1 in c:\\users\\siddhesh\\appdata\\local\\programs\\python\\python313\\lib\\site-packages (from mcp==1.16.0->semgrep) (0.28.1)\n",
      "Requirement already satisfied: jsonschema>=4.20.0 in c:\\users\\siddhesh\\appdata\\local\\programs\\python\\python313\\lib\\site-packages (from mcp==1.16.0->semgrep) (4.25.0)\n",
      "Requirement already satisfied: pydantic-settings>=2.5.2 in c:\\users\\siddhesh\\appdata\\local\\programs\\python\\python313\\lib\\site-packages (from mcp==1.16.0->semgrep) (2.11.0)\n",
      "Requirement already satisfied: pydantic<3.0.0,>=2.11.0 in c:\\users\\siddhesh\\appdata\\local\\programs\\python\\python313\\lib\\site-packages (from mcp==1.16.0->semgrep) (2.11.7)\n",
      "Requirement already satisfied: python-multipart>=0.0.9 in c:\\users\\siddhesh\\appdata\\local\\programs\\python\\python313\\lib\\site-packages (from mcp==1.16.0->semgrep) (0.0.20)\n",
      "Requirement already satisfied: sse-starlette>=1.6.1 in c:\\users\\siddhesh\\appdata\\local\\programs\\python\\python313\\lib\\site-packages (from mcp==1.16.0->semgrep) (3.0.2)\n",
      "Requirement already satisfied: starlette>=0.27 in c:\\users\\siddhesh\\appdata\\local\\programs\\python\\python313\\lib\\site-packages (from mcp==1.16.0->semgrep) (0.48.0)\n",
      "Requirement already satisfied: uvicorn>=0.31.1 in c:\\users\\siddhesh\\appdata\\local\\programs\\python\\python313\\lib\\site-packages (from mcp==1.16.0->semgrep) (0.38.0)\n",
      "Requirement already satisfied: face>=20.1.0 in c:\\users\\siddhesh\\appdata\\local\\programs\\python\\python313\\lib\\site-packages (from glom~=22.1->semgrep) (24.0.0)\n",
      "Requirement already satisfied: importlib-metadata<8.8.0,>=6.0 in c:\\users\\siddhesh\\appdata\\local\\programs\\python\\python313\\lib\\site-packages (from opentelemetry-api~=1.37.0->semgrep) (8.7.0)\n",
      "Requirement already satisfied: zipp>=3.20 in c:\\users\\siddhesh\\appdata\\local\\programs\\python\\python313\\lib\\site-packages (from importlib-metadata<8.8.0,>=6.0->opentelemetry-api~=1.37.0->semgrep) (3.23.0)\n",
      "Requirement already satisfied: googleapis-common-protos~=1.52 in c:\\users\\siddhesh\\appdata\\local\\programs\\python\\python313\\lib\\site-packages (from opentelemetry-exporter-otlp-proto-http~=1.37.0->semgrep) (1.70.0)\n",
      "Requirement already satisfied: opentelemetry-exporter-otlp-proto-common==1.37.0 in c:\\users\\siddhesh\\appdata\\local\\programs\\python\\python313\\lib\\site-packages (from opentelemetry-exporter-otlp-proto-http~=1.37.0->semgrep) (1.37.0)\n",
      "Requirement already satisfied: opentelemetry-proto==1.37.0 in c:\\users\\siddhesh\\appdata\\local\\programs\\python\\python313\\lib\\site-packages (from opentelemetry-exporter-otlp-proto-http~=1.37.0->semgrep) (1.37.0)\n",
      "Requirement already satisfied: protobuf<7.0,>=5.0 in c:\\users\\siddhesh\\appdata\\local\\programs\\python\\python313\\lib\\site-packages (from opentelemetry-proto==1.37.0->opentelemetry-exporter-otlp-proto-http~=1.37.0->semgrep) (5.29.5)\n",
      "Requirement already satisfied: opentelemetry-instrumentation==0.58b0 in c:\\users\\siddhesh\\appdata\\local\\programs\\python\\python313\\lib\\site-packages (from opentelemetry-instrumentation-requests~=0.58b0->semgrep) (0.58b0)\n",
      "Requirement already satisfied: opentelemetry-semantic-conventions==0.58b0 in c:\\users\\siddhesh\\appdata\\local\\programs\\python\\python313\\lib\\site-packages (from opentelemetry-instrumentation-requests~=0.58b0->semgrep) (0.58b0)\n",
      "Requirement already satisfied: opentelemetry-util-http==0.58b0 in c:\\users\\siddhesh\\appdata\\local\\programs\\python\\python313\\lib\\site-packages (from opentelemetry-instrumentation-requests~=0.58b0->semgrep) (0.58b0)\n",
      "Requirement already satisfied: wrapt<2.0.0,>=1.0.0 in c:\\users\\siddhesh\\appdata\\local\\programs\\python\\python313\\lib\\site-packages (from opentelemetry-instrumentation==0.58b0->opentelemetry-instrumentation-requests~=0.58b0->semgrep) (1.17.2)\n",
      "Requirement already satisfied: annotated-types>=0.6.0 in c:\\users\\siddhesh\\appdata\\local\\programs\\python\\python313\\lib\\site-packages (from pydantic<3.0.0,>=2.11.0->mcp==1.16.0->semgrep) (0.7.0)\n",
      "Requirement already satisfied: pydantic-core==2.33.2 in c:\\users\\siddhesh\\appdata\\local\\programs\\python\\python313\\lib\\site-packages (from pydantic<3.0.0,>=2.11.0->mcp==1.16.0->semgrep) (2.33.2)\n",
      "Requirement already satisfied: typing-inspection>=0.4.0 in c:\\users\\siddhesh\\appdata\\local\\programs\\python\\python313\\lib\\site-packages (from pydantic<3.0.0,>=2.11.0->mcp==1.16.0->semgrep) (0.4.1)\n",
      "Requirement already satisfied: charset_normalizer<4,>=2 in c:\\users\\siddhesh\\appdata\\local\\programs\\python\\python313\\lib\\site-packages (from requests~=2.22->semgrep) (3.4.2)\n",
      "Requirement already satisfied: idna<4,>=2.5 in c:\\users\\siddhesh\\appdata\\local\\programs\\python\\python313\\lib\\site-packages (from requests~=2.22->semgrep) (3.10)\n",
      "Requirement already satisfied: certifi>=2017.4.17 in c:\\users\\siddhesh\\appdata\\local\\programs\\python\\python313\\lib\\site-packages (from requests~=2.22->semgrep) (2025.8.3)\n",
      "Requirement already satisfied: markdown-it-py>=2.2.0 in c:\\users\\siddhesh\\appdata\\local\\programs\\python\\python313\\lib\\site-packages (from rich~=13.5.2->semgrep) (3.0.0)\n",
      "Requirement already satisfied: pygments<3.0.0,>=2.13.0 in c:\\users\\siddhesh\\appdata\\local\\programs\\python\\python313\\lib\\site-packages (from rich~=13.5.2->semgrep) (2.19.2)\n",
      "Requirement already satisfied: bracex>=2.1.1 in c:\\users\\siddhesh\\appdata\\local\\programs\\python\\python313\\lib\\site-packages (from wcmatch~=8.3->semgrep) (2.6)\n",
      "Requirement already satisfied: sniffio>=1.1 in c:\\users\\siddhesh\\appdata\\local\\programs\\python\\python313\\lib\\site-packages (from anyio>=4.5->mcp==1.16.0->semgrep) (1.3.1)\n",
      "Requirement already satisfied: httpcore==1.* in c:\\users\\siddhesh\\appdata\\local\\programs\\python\\python313\\lib\\site-packages (from httpx>=0.27.1->mcp==1.16.0->semgrep) (1.0.9)\n",
      "Requirement already satisfied: h11>=0.16 in c:\\users\\siddhesh\\appdata\\local\\programs\\python\\python313\\lib\\site-packages (from httpcore==1.*->httpx>=0.27.1->mcp==1.16.0->semgrep) (0.16.0)\n",
      "Requirement already satisfied: jsonschema-specifications>=2023.03.6 in c:\\users\\siddhesh\\appdata\\local\\programs\\python\\python313\\lib\\site-packages (from jsonschema>=4.20.0->mcp==1.16.0->semgrep) (2025.4.1)\n",
      "Requirement already satisfied: referencing>=0.28.4 in c:\\users\\siddhesh\\appdata\\local\\programs\\python\\python313\\lib\\site-packages (from jsonschema>=4.20.0->mcp==1.16.0->semgrep) (0.36.2)\n",
      "Requirement already satisfied: rpds-py>=0.7.1 in c:\\users\\siddhesh\\appdata\\local\\programs\\python\\python313\\lib\\site-packages (from jsonschema>=4.20.0->mcp==1.16.0->semgrep) (0.26.0)\n",
      "Requirement already satisfied: mdurl~=0.1 in c:\\users\\siddhesh\\appdata\\local\\programs\\python\\python313\\lib\\site-packages (from markdown-it-py>=2.2.0->rich~=13.5.2->semgrep) (0.1.2)\n",
      "Requirement already satisfied: python-dotenv>=0.21.0 in c:\\users\\siddhesh\\appdata\\local\\programs\\python\\python313\\lib\\site-packages (from pydantic-settings>=2.5.2->mcp==1.16.0->semgrep) (1.1.1)\n",
      "Requirement already satisfied: six>=1.5 in c:\\users\\siddhesh\\appdata\\local\\programs\\python\\python313\\lib\\site-packages (from python-dateutil>=2.8.2->pandas) (1.17.0)\n"
     ]
    }
   ],
   "source": [
    "!pip install pandas semgrep"
   ]
  },
  {
   "cell_type": "code",
   "execution_count": 3,
   "id": "7522abe2",
   "metadata": {},
   "outputs": [],
   "source": [
    "import os\n",
    "\n",
    "# Create a directory to store all our scan results\n",
    "os.makedirs(\"results\", exist_ok=True)"
   ]
  },
  {
   "cell_type": "code",
   "execution_count": 4,
   "id": "08a1eb2b",
   "metadata": {},
   "outputs": [
    {
     "name": "stdout",
     "output_type": "stream",
     "text": [
      "DONE\n"
     ]
    },
    {
     "name": "stderr",
     "output_type": "stream",
     "text": [
      "[00.06][WARNING](ca-certs): Ignored 1 trust anchors.\n"
     ]
    }
   ],
   "source": [
    "# Run Semgrep on GSON\n",
    "!semgrep scan --config \"p/cwe-top-25\" --json --quiet -o \"results/gson-semgrep.json\" ./Repos/gson \n",
    "\n",
    "print(\"DONE\")"
   ]
  },
  {
   "cell_type": "code",
   "execution_count": 5,
   "id": "8e58e4cf",
   "metadata": {},
   "outputs": [
    {
     "name": "stderr",
     "output_type": "stream",
     "text": [
      "[00.05][WARNING](ca-certs): Ignored 1 trust anchors.\n"
     ]
    },
    {
     "name": "stdout",
     "output_type": "stream",
     "text": [
      "Semgrep Done\n"
     ]
    },
    {
     "name": "stderr",
     "output_type": "stream",
     "text": [
      "[00.06][WARNING](ca-certs): Ignored 1 trust anchors.\n"
     ]
    }
   ],
   "source": [
    "\n",
    "!semgrep scan --config \"p/cwe-top-25\" --json --quiet -o \"results/gson-semgrep.json\" ./Repos/logging-log4j2\n",
    "\n",
    "!semgrep scan --config \"p/cwe-top-25\" --json --quiet -o \"results/gson-semgrep.json\" ./Repos/zxing\n",
    "\n",
    "print(\"Semgrep Done\")"
   ]
  },
  {
   "cell_type": "code",
   "execution_count": 6,
   "id": "5b843f43",
   "metadata": {},
   "outputs": [
    {
     "name": "stdout",
     "output_type": "stream",
     "text": [
      "No java executable found in PATH\n",
      "PMD scans complete!\n"
     ]
    }
   ],
   "source": [
    "# Run PMD on GSON\n",
    "!.\\Tools\\pmd-bin-7.17.0\\bin\\pmd.bat check -d ./Repos/gson -R category/java/security.xml -f xml -r \"results/gson-pmd.xml\"\n",
    "\n",
    "print(\"PMD scans complete!\")"
   ]
  },
  {
   "cell_type": "code",
   "execution_count": 7,
   "id": "d9e3b7f6",
   "metadata": {},
   "outputs": [
    {
     "name": "stdout",
     "output_type": "stream",
     "text": [
      "No java executable found in PATH\n",
      "No java executable found in PATH\n",
      "PMD scans complete!\n"
     ]
    }
   ],
   "source": [
    "# Run PMD on Log4j (with security AND errorprone rules)\n",
    "!.\\Tools\\pmd-bin-7.17.0\\bin\\pmd.bat check -d ./Repos/logging-log4j2 -R category/java/security.xml,category/java/errorprone.xml -f xml -r \"results/log4j-pmd.xml\"\n",
    "\n",
    "# Run PMD on ZXing (with security AND errorprone rules)\n",
    "!.\\Tools\\pmd-bin-7.17.0\\bin\\pmd.bat check -d ./Repos/zxing -R category/java/security.xml,category/java/errorprone.xml -f xml -r \"results/zxing-pmd.xml\"\n",
    "\n",
    "print(\"PMD scans complete!\")"
   ]
  },
  {
   "cell_type": "code",
   "execution_count": 1,
   "id": "ccf8df8e",
   "metadata": {},
   "outputs": [],
   "source": [
    "# --- CodeQL Setup ---\n",
    "import subprocess\n",
    "import os\n",
    "import shutil"
   ]
  },
  {
   "cell_type": "code",
   "execution_count": 2,
   "id": "58ef5c2b",
   "metadata": {},
   "outputs": [
    {
     "name": "stdout",
     "output_type": "stream",
     "text": [
      "Successfully changed working directory to:\n",
      "C:\\Sidd all in one\\Unsafe\\Lab6\n"
     ]
    }
   ],
   "source": [
    "# Define the correct root directory for your project\n",
    "# This is the main 'Lab6' folder\n",
    "project_root = r\"C:\\Sidd all in one\\Unsafe\\Lab6\"\n",
    "\n",
    "# Change the current working directory to the project root\n",
    "os.chdir(project_root)\n",
    "\n",
    "# Verify the change\n",
    "print(\"Successfully changed working directory to:\")\n",
    "print(os.getcwd())"
   ]
  },
  {
   "cell_type": "code",
   "execution_count": 3,
   "id": "ef363fc6",
   "metadata": {},
   "outputs": [
    {
     "name": "stdout",
     "output_type": "stream",
     "text": [
      "CodeQL CLI found.\n",
      "CodeQL queries folder found.\n"
     ]
    }
   ],
   "source": [
    "codeql_cli_path = r\"Tools\\codeql\\codeql.exe\"  # Or just \"codeql\" if it's in your PATH\n",
    "codeql_queries_path = r\"Tools\\codeql-queries\\codeql-queries\" # adjust to your clone\n",
    "\n",
    "# Better check for CLI: use exact path or check PATH with shutil.which\n",
    "if os.path.exists(codeql_cli_path) or shutil.which(codeql_cli_path) or shutil.which(\"codeql\"):\n",
    "    print(\"CodeQL CLI found.\")\n",
    "else:\n",
    "    print(f\"ERROR: CodeQL CLI not found at '{codeql_cli_path}'. Please correct the path or install CodeQL.\")\n",
    "\n",
    "if not os.path.isdir(codeql_queries_path):\n",
    "    print(f\"ERROR: CodeQL queries folder not found at '{codeql_queries_path}'. Please correct the path.\")\n",
    "else:\n",
    "    print(\"CodeQL queries folder found.\")"
   ]
  },
  {
   "cell_type": "code",
   "execution_count": null,
   "id": "66bbd93a",
   "metadata": {},
   "outputs": [
    {
     "name": "stdout",
     "output_type": "stream",
     "text": [
      "Creating CodeQL databases...\n",
      "\\nAttempting to create database for 'log4j' at 'C:\\Sidd all in one\\Unsafe\\Lab6\\CodeQL-Databases\\log4j-codeql-db'...\n",
      "  Running command: Tools\\codeql\\codeql.exe database create C:\\Sidd all in one\\Unsafe\\Lab6\\CodeQL-Databases\\log4j-codeql-db --language=java --source-root=C:\\Sidd all in one\\Unsafe\\Lab6\\Repos\\logging-log4j2 --command=mvn clean install -DskipTests --overwrite\n",
      "  Successfully created database for 'log4j'.\n",
      "\\nDatabase creation process finished.\n"
     ]
    }
   ],
   "source": [
    "# --- Create CodeQL Databases (with explicit build commands) ---\n",
    "print(\"Creating CodeQL databases...\")\n",
    "\n",
    "# --- !!! DEFINE BUILD COMMANDS PER PROJECT !!! ---\n",
    "# You MUST find the correct build command for each project\n",
    "build_commands = {\n",
    "    #\"gson\": \"mvn clean verify\", # Example for Maven\n",
    "    #\"log4j\": \"mvn clean install -DskipTests\", # Example for Maven (Log4j2 uses Maven)\n",
    "    #\"zxing\": \"mvn clean compile -DskipTests\" # Example for Maven (ZXing uses Maven)\n",
    "}\n",
    "\n",
    "repos = {\n",
    "    #\"gson\": os.path.join(project_root, \"Repos\", \"gson\"),\n",
    "    #\"log4j\": os.path.join(project_root, \"Repos\", \"logging-log4j2\"),\n",
    "    #\"zxing\": os.path.join(project_root, \"Repos\", \"zxing\")\n",
    "}\n",
    "output_dir = os.path.join(project_root, \"CodeQL-Databases\")\n",
    "\n",
    "for name, repo_path in repos.items():\n",
    "    db_name = os.path.join(output_dir, f\"{name}-codeql-db\")\n",
    "    print(f\"\\\\nAttempting to create database for '{name}' at '{db_name}'...\")\n",
    "\n",
    "    if not os.path.isdir(repo_path):\n",
    "        print(f\"  ERROR: Repository path '{repo_path}' does not exist. Skipping.\")\n",
    "        continue\n",
    "\n",
    "    if name not in build_commands:\n",
    "         print(f\"  ERROR: Build command not defined for '{name}'. Skipping.\")\n",
    "         continue\n",
    "\n",
    "    command = [\n",
    "        codeql_cli_path,\n",
    "        \"database\", \"create\", db_name,\n",
    "        f\"--language={\"java\"}\",\n",
    "        f\"--source-root={repo_path}\",\n",
    "        f\"--command={build_commands[name]}\", # <-- Add the build command here\n",
    "        \"--overwrite\"\n",
    "    ]\n",
    "\n",
    "    print(f\"  Running command: {' '.join(command)}\")\n",
    "    try:\n",
    "        result = subprocess.run(command, capture_output=True, text=True, check=True, encoding='utf-8', errors='ignore')\n",
    "        print(f\"  Successfully created database for '{name}'.\")\n",
    "    except subprocess.CalledProcessError as e:\n",
    "        print(f\"  ERROR creating database for '{name}':\")\n",
    "        print(f\"  Return Code: {e.returncode}\")\n",
    "        print(f\"  Stderr:\\\\n{e.stderr}\")\n",
    "    except Exception as e:\n",
    "        print(f\"  An unexpected error occurred: {e}\")\n",
    "\n",
    "print(\"\\\\nDatabase creation process finished.\")"
   ]
  },
  {
   "cell_type": "code",
   "execution_count": 6,
   "id": "5af09ab5",
   "metadata": {},
   "outputs": [],
   "source": [
    "repos = {\n",
    "    \"gson\": os.path.join(project_root, \"Repos\", \"gson\"),\n",
    "    \"log4j\": os.path.join(project_root, \"Repos\", \"logging-log4j2\"),\n",
    "    \"zxing\": os.path.join(project_root, \"Repos\", \"zxing\")\n",
    "}"
   ]
  },
  {
   "cell_type": "code",
   "execution_count": null,
   "id": "32758f71",
   "metadata": {},
   "outputs": [
    {
     "name": "stdout",
     "output_type": "stream",
     "text": [
      "\n",
      "Running CodeQL analysis...\n",
      "\n",
      "Analyzing 'gson'...\n",
      "  Running command: Tools\\codeql\\codeql.exe database analyze C:\\Sidd all in one\\Unsafe\\Lab6\\CodeQL-Databases\\gson-codeql-db Tools\\codeql-queries\\codeql-queries\\java\\ql\\src\\Security\\CWE --format=sarif-latest --output=C:\\Sidd all in one\\Unsafe\\Lab6\\CodeQL-Databases\\gson-codeql.sarif --ram=8000\n",
      "  ERROR analyzing 'gson':\n",
      "  Return Code: 1\n",
      "  Stderr:\n",
      "Running queries.\n",
      "Compiling query plan for C:\\Sidd all in one\\Unsafe\\Lab6\\Tools\\codeql-queries\\codeql-queries\\java\\ql\\src\\Security\\CWE\\CWE-020\\ExternalAPIsUsedWithUntrustedData.ql.\n",
      "[1/122] Found in cache: C:\\Sidd all in one\\Unsafe\\Lab6\\Tools\\codeql-queries\\codeql-queries\\java\\ql\\src\\Security\\CWE\\CWE-020\\ExternalAPIsUsedWithUntrustedData.ql.\n",
      "Compiling query plan for C:\\Sidd all in one\\Unsafe\\Lab6\\Tools\\codeql-queries\\codeql-queries\\java\\ql\\src\\Security\\CWE\\CWE-020\\OverlyLargeRange.ql.\n",
      "[2/122] Found in cache: C:\\Sidd all in one\\Unsafe\\Lab6\\Tools\\codeql-queries\\codeql-queries\\java\\ql\\src\\Security\\CWE\\CWE-020\\OverlyLargeRange.ql.\n",
      "Compiling query plan for C:\\Sidd all in one\\Unsafe\\Lab6\\Tools\\codeql-queries\\codeql-queries\\java\\ql\\src\\Security\\CWE\\CWE-020\\UntrustedDataToExternalAPI.ql.\n",
      "[3/122] Found in cache: C:\\Sidd all in one\\Unsafe\\Lab6\\Tools\\codeql-queries\\codeql-queries\\java\\ql\\src\\Security\\CWE\\CWE-020\\UntrustedDataToExternalAPI.ql.\n",
      "Compiling query plan for C:\\Sidd all in one\\Unsafe\\Lab6\\Tools\\codeql-queries\\codeql-queries\\java\\ql\\src\\Security\\CWE\\CWE-022\\TaintedPath.ql.\n",
      "[4/122] Found in cache: C:\\Sidd all in one\\Unsafe\\Lab6\\Tools\\codeql-queries\\codeql-queries\\java\\ql\\src\\Security\\CWE\\CWE-022\\TaintedPath.ql.\n",
      "Compiling query plan for C:\\Sidd all in one\\Unsafe\\Lab6\\Tools\\codeql-queries\\codeql-queries\\java\\ql\\src\\Security\\CWE\\CWE-022\\ZipSlip.ql.\n",
      "[5/122] Found in cache: C:\\Sidd all in one\\Unsafe\\Lab6\\Tools\\codeql-queries\\codeql-queries\\java\\ql\\src\\Security\\CWE\\CWE-022\\ZipSlip.ql.\n",
      "Compiling query plan for C:\\Sidd all in one\\Unsafe\\Lab6\\Tools\\codeql-queries\\codeql-queries\\java\\ql\\src\\Security\\CWE\\CWE-023\\PartialPathTraversal.ql.\n",
      "[6/122] Found in cache: C:\\Sidd all in one\\Unsafe\\Lab6\\Tools\\codeql-queries\\codeql-queries\\java\\ql\\src\\Security\\CWE\\CWE-023\\PartialPathTraversal.ql.\n",
      "Compiling query plan for C:\\Sidd all in one\\Unsafe\\Lab6\\Tools\\codeql-queries\\codeql-queries\\java\\ql\\src\\Security\\CWE\\CWE-023\\PartialPathTraversalFromRemote.ql.\n",
      "[7/122] Found in cache: C:\\Sidd all in one\\Unsafe\\Lab6\\Tools\\codeql-queries\\codeql-queries\\java\\ql\\src\\Security\\CWE\\CWE-023\\PartialPathTraversalFromRemote.ql.\n",
      "Compiling query plan for C:\\Sidd all in one\\Unsafe\\Lab6\\Tools\\codeql-queries\\codeql-queries\\java\\ql\\src\\Security\\CWE\\CWE-074\\JndiInjection.ql.\n",
      "[8/122] Found in cache: C:\\Sidd all in one\\Unsafe\\Lab6\\Tools\\codeql-queries\\codeql-queries\\java\\ql\\src\\Security\\CWE\\CWE-074\\JndiInjection.ql.\n",
      "Compiling query plan for C:\\Sidd all in one\\Unsafe\\Lab6\\Tools\\codeql-queries\\codeql-queries\\java\\ql\\src\\Security\\CWE\\CWE-074\\XsltInjection.ql.\n",
      "[9/122] Found in cache: C:\\Sidd all in one\\Unsafe\\Lab6\\Tools\\codeql-queries\\codeql-queries\\java\\ql\\src\\Security\\CWE\\CWE-074\\XsltInjection.ql.\n",
      "Compiling query plan for C:\\Sidd all in one\\Unsafe\\Lab6\\Tools\\codeql-queries\\codeql-queries\\java\\ql\\src\\Security\\CWE\\CWE-078\\ExecRelative.ql.\n",
      "[10/122] Found in cache: C:\\Sidd all in one\\Unsafe\\Lab6\\Tools\\codeql-queries\\codeql-queries\\java\\ql\\src\\Security\\CWE\\CWE-078\\ExecRelative.ql.\n",
      "Compiling query plan for C:\\Sidd all in one\\Unsafe\\Lab6\\Tools\\codeql-queries\\codeql-queries\\java\\ql\\src\\Security\\CWE\\CWE-078\\ExecTainted.ql.\n",
      "[11/122] Found in cache: C:\\Sidd all in one\\Unsafe\\Lab6\\Tools\\codeql-queries\\codeql-queries\\java\\ql\\src\\Security\\CWE\\CWE-078\\ExecTainted.ql.\n",
      "Compiling query plan for C:\\Sidd all in one\\Unsafe\\Lab6\\Tools\\codeql-queries\\codeql-queries\\java\\ql\\src\\Security\\CWE\\CWE-078\\ExecTaintedEnvironment.ql.\n",
      "[12/122] Found in cache: C:\\Sidd all in one\\Unsafe\\Lab6\\Tools\\codeql-queries\\codeql-queries\\java\\ql\\src\\Security\\CWE\\CWE-078\\ExecTaintedEnvironment.ql.\n",
      "Compiling query plan for C:\\Sidd all in one\\Unsafe\\Lab6\\Tools\\codeql-queries\\codeql-queries\\java\\ql\\src\\Security\\CWE\\CWE-078\\ExecUnescaped.ql.\n",
      "[13/122] Found in cache: C:\\Sidd all in one\\Unsafe\\Lab6\\Tools\\codeql-queries\\codeql-queries\\java\\ql\\src\\Security\\CWE\\CWE-078\\ExecUnescaped.ql.\n",
      "Compiling query plan for C:\\Sidd all in one\\Unsafe\\Lab6\\Tools\\codeql-queries\\codeql-queries\\java\\ql\\src\\Security\\CWE\\CWE-079\\AndroidWebViewAddJavascriptInterface.ql.\n",
      "[14/122] Found in cache: C:\\Sidd all in one\\Unsafe\\Lab6\\Tools\\codeql-queries\\codeql-queries\\java\\ql\\src\\Security\\CWE\\CWE-079\\AndroidWebViewAddJavascriptInterface.ql.\n",
      "Compiling query plan for C:\\Sidd all in one\\Unsafe\\Lab6\\Tools\\codeql-queries\\codeql-queries\\java\\ql\\src\\Security\\CWE\\CWE-079\\AndroidWebViewSettingsEnabledJavaScript.ql.\n",
      "[15/122] Found in cache: C:\\Sidd all in one\\Unsafe\\Lab6\\Tools\\codeql-queries\\codeql-queries\\java\\ql\\src\\Security\\CWE\\CWE-079\\AndroidWebViewSettingsEnabledJavaScript.ql.\n",
      "Compiling query plan for C:\\Sidd all in one\\Unsafe\\Lab6\\Tools\\codeql-queries\\codeql-queries\\java\\ql\\src\\Security\\CWE\\CWE-079\\XSS.ql.\n",
      "[16/122] Found in cache: C:\\Sidd all in one\\Unsafe\\Lab6\\Tools\\codeql-queries\\codeql-queries\\java\\ql\\src\\Security\\CWE\\CWE-079\\XSS.ql.\n",
      "Compiling query plan for C:\\Sidd all in one\\Unsafe\\Lab6\\Tools\\codeql-queries\\codeql-queries\\java\\ql\\src\\Security\\CWE\\CWE-089\\SqlConcatenated.ql.\n",
      "[17/122] Found in cache: C:\\Sidd all in one\\Unsafe\\Lab6\\Tools\\codeql-queries\\codeql-queries\\java\\ql\\src\\Security\\CWE\\CWE-089\\SqlConcatenated.ql.\n",
      "Compiling query plan for C:\\Sidd all in one\\Unsafe\\Lab6\\Tools\\codeql-queries\\codeql-queries\\java\\ql\\src\\Security\\CWE\\CWE-089\\SqlTainted.ql.\n",
      "[18/122] Found in cache: C:\\Sidd all in one\\Unsafe\\Lab6\\Tools\\codeql-queries\\codeql-queries\\java\\ql\\src\\Security\\CWE\\CWE-089\\SqlTainted.ql.\n",
      "Compiling query plan for C:\\Sidd all in one\\Unsafe\\Lab6\\Tools\\codeql-queries\\codeql-queries\\java\\ql\\src\\Security\\CWE\\CWE-090\\LdapInjection.ql.\n",
      "[19/122] Found in cache: C:\\Sidd all in one\\Unsafe\\Lab6\\Tools\\codeql-queries\\codeql-queries\\java\\ql\\src\\Security\\CWE\\CWE-090\\LdapInjection.ql.\n",
      "Compiling query plan for C:\\Sidd all in one\\Unsafe\\Lab6\\Tools\\codeql-queries\\codeql-queries\\java\\ql\\src\\Security\\CWE\\CWE-094\\ArbitraryApkInstallation.ql.\n",
      "[20/122] Found in cache: C:\\Sidd all in one\\Unsafe\\Lab6\\Tools\\codeql-queries\\codeql-queries\\java\\ql\\src\\Security\\CWE\\CWE-094\\ArbitraryApkInstallation.ql.\n",
      "Compiling query plan for C:\\Sidd all in one\\Unsafe\\Lab6\\Tools\\codeql-queries\\codeql-queries\\java\\ql\\src\\Security\\CWE\\CWE-094\\GroovyInjection.ql.\n",
      "[21/122] Found in cache: C:\\Sidd all in one\\Unsafe\\Lab6\\Tools\\codeql-queries\\codeql-queries\\java\\ql\\src\\Security\\CWE\\CWE-094\\GroovyInjection.ql.\n",
      "Compiling query plan for C:\\Sidd all in one\\Unsafe\\Lab6\\Tools\\codeql-queries\\codeql-queries\\java\\ql\\src\\Security\\CWE\\CWE-094\\InsecureBeanValidation.ql.\n",
      "[22/122] Found in cache: C:\\Sidd all in one\\Unsafe\\Lab6\\Tools\\codeql-queries\\codeql-queries\\java\\ql\\src\\Security\\CWE\\CWE-094\\InsecureBeanValidation.ql.\n",
      "Compiling query plan for C:\\Sidd all in one\\Unsafe\\Lab6\\Tools\\codeql-queries\\codeql-queries\\java\\ql\\src\\Security\\CWE\\CWE-094\\JexlInjection.ql.\n",
      "[23/122] Found in cache: C:\\Sidd all in one\\Unsafe\\Lab6\\Tools\\codeql-queries\\codeql-queries\\java\\ql\\src\\Security\\CWE\\CWE-094\\JexlInjection.ql.\n",
      "Compiling query plan for C:\\Sidd all in one\\Unsafe\\Lab6\\Tools\\codeql-queries\\codeql-queries\\java\\ql\\src\\Security\\CWE\\CWE-094\\MvelInjection.ql.\n",
      "[24/122] Found in cache: C:\\Sidd all in one\\Unsafe\\Lab6\\Tools\\codeql-queries\\codeql-queries\\java\\ql\\src\\Security\\CWE\\CWE-094\\MvelInjection.ql.\n",
      "Compiling query plan for C:\\Sidd all in one\\Unsafe\\Lab6\\Tools\\codeql-queries\\codeql-queries\\java\\ql\\src\\Security\\CWE\\CWE-094\\SpelInjection.ql.\n",
      "[25/122] Found in cache: C:\\Sidd all in one\\Unsafe\\Lab6\\Tools\\codeql-queries\\codeql-queries\\java\\ql\\src\\Security\\CWE\\CWE-094\\SpelInjection.ql.\n",
      "Compiling query plan for C:\\Sidd all in one\\Unsafe\\Lab6\\Tools\\codeql-queries\\codeql-queries\\java\\ql\\src\\Security\\CWE\\CWE-094\\TemplateInjection.ql.\n",
      "[26/122] Found in cache: C:\\Sidd all in one\\Unsafe\\Lab6\\Tools\\codeql-queries\\codeql-queries\\java\\ql\\src\\Security\\CWE\\CWE-094\\TemplateInjection.ql.\n",
      "Compiling query plan for C:\\Sidd all in one\\Unsafe\\Lab6\\Tools\\codeql-queries\\codeql-queries\\java\\ql\\src\\Security\\CWE\\CWE-1004\\SensitiveCookieNotHttpOnly.ql.\n",
      "[27/122] Found in cache: C:\\Sidd all in one\\Unsafe\\Lab6\\Tools\\codeql-queries\\codeql-queries\\java\\ql\\src\\Security\\CWE\\CWE-1004\\SensitiveCookieNotHttpOnly.ql.\n",
      "Compiling query plan for C:\\Sidd all in one\\Unsafe\\Lab6\\Tools\\codeql-queries\\codeql-queries\\java\\ql\\src\\Security\\CWE\\CWE-1104\\MavenPomDependsOnBintray.ql.\n",
      "[28/122] Found in cache: C:\\Sidd all in one\\Unsafe\\Lab6\\Tools\\codeql-queries\\codeql-queries\\java\\ql\\src\\Security\\CWE\\CWE-1104\\MavenPomDependsOnBintray.ql.\n",
      "Compiling query plan for C:\\Sidd all in one\\Unsafe\\Lab6\\Tools\\codeql-queries\\codeql-queries\\java\\ql\\src\\Security\\CWE\\CWE-113\\NettyResponseSplitting.ql.\n",
      "[29/122] Found in cache: C:\\Sidd all in one\\Unsafe\\Lab6\\Tools\\codeql-queries\\codeql-queries\\java\\ql\\src\\Security\\CWE\\CWE-113\\NettyResponseSplitting.ql.\n",
      "Compiling query plan for C:\\Sidd all in one\\Unsafe\\Lab6\\Tools\\codeql-queries\\codeql-queries\\java\\ql\\src\\Security\\CWE\\CWE-113\\ResponseSplitting.ql.\n",
      "[30/122] Found in cache: C:\\Sidd all in one\\Unsafe\\Lab6\\Tools\\codeql-queries\\codeql-queries\\java\\ql\\src\\Security\\CWE\\CWE-113\\ResponseSplitting.ql.\n",
      "Compiling query plan for C:\\Sidd all in one\\Unsafe\\Lab6\\Tools\\codeql-queries\\codeql-queries\\java\\ql\\src\\Security\\CWE\\CWE-117\\LogInjection.ql.\n",
      "[31/122] Found in cache: C:\\Sidd all in one\\Unsafe\\Lab6\\Tools\\codeql-queries\\codeql-queries\\java\\ql\\src\\Security\\CWE\\CWE-117\\LogInjection.ql.\n",
      "Compiling query plan for C:\\Sidd all in one\\Unsafe\\Lab6\\Tools\\codeql-queries\\codeql-queries\\java\\ql\\src\\Security\\CWE\\CWE-1204\\StaticInitializationVector.ql.\n",
      "[32/122] Found in cache: C:\\Sidd all in one\\Unsafe\\Lab6\\Tools\\codeql-queries\\codeql-queries\\java\\ql\\src\\Security\\CWE\\CWE-1204\\StaticInitializationVector.ql.\n",
      "Compiling query plan for C:\\Sidd all in one\\Unsafe\\Lab6\\Tools\\codeql-queries\\codeql-queries\\java\\ql\\src\\Security\\CWE\\CWE-129\\ImproperValidationOfArrayConstruction.ql.\n",
      "[33/122] Found in cache: C:\\Sidd all in one\\Unsafe\\Lab6\\Tools\\codeql-queries\\codeql-queries\\java\\ql\\src\\Security\\CWE\\CWE-129\\ImproperValidationOfArrayConstruction.ql.\n",
      "Compiling query plan for C:\\Sidd all in one\\Unsafe\\Lab6\\Tools\\codeql-queries\\codeql-queries\\java\\ql\\src\\Security\\CWE\\CWE-129\\ImproperValidationOfArrayConstructionCodeSpecified.ql.\n",
      "[34/122] Found in cache: C:\\Sidd all in one\\Unsafe\\Lab6\\Tools\\codeql-queries\\codeql-queries\\java\\ql\\src\\Security\\CWE\\CWE-129\\ImproperValidationOfArrayConstructionCodeSpecified.ql.\n",
      "Compiling query plan for C:\\Sidd all in one\\Unsafe\\Lab6\\Tools\\codeql-queries\\codeql-queries\\java\\ql\\src\\Security\\CWE\\CWE-129\\ImproperValidationOfArrayIndex.ql.\n",
      "[35/122] Found in cache: C:\\Sidd all in one\\Unsafe\\Lab6\\Tools\\codeql-queries\\codeql-queries\\java\\ql\\src\\Security\\CWE\\CWE-129\\ImproperValidationOfArrayIndex.ql.\n",
      "Compiling query plan for C:\\Sidd all in one\\Unsafe\\Lab6\\Tools\\codeql-queries\\codeql-queries\\java\\ql\\src\\Security\\CWE\\CWE-129\\ImproperValidationOfArrayIndexCodeSpecified.ql.\n",
      "[36/122] Found in cache: C:\\Sidd all in one\\Unsafe\\Lab6\\Tools\\codeql-queries\\codeql-queries\\java\\ql\\src\\Security\\CWE\\CWE-129\\ImproperValidationOfArrayIndexCodeSpecified.ql.\n",
      "Compiling query plan for C:\\Sidd all in one\\Unsafe\\Lab6\\Tools\\codeql-queries\\codeql-queries\\java\\ql\\src\\Security\\CWE\\CWE-134\\ExternallyControlledFormatString.ql.\n",
      "[37/122] Found in cache: C:\\Sidd all in one\\Unsafe\\Lab6\\Tools\\codeql-queries\\codeql-queries\\java\\ql\\src\\Security\\CWE\\CWE-134\\ExternallyControlledFormatString.ql.\n",
      "Compiling query plan for C:\\Sidd all in one\\Unsafe\\Lab6\\Tools\\codeql-queries\\codeql-queries\\java\\ql\\src\\Security\\CWE\\CWE-190\\ArithmeticTainted.ql.\n",
      "[38/122] Found in cache: C:\\Sidd all in one\\Unsafe\\Lab6\\Tools\\codeql-queries\\codeql-queries\\java\\ql\\src\\Security\\CWE\\CWE-190\\ArithmeticTainted.ql.\n",
      "Compiling query plan for C:\\Sidd all in one\\Unsafe\\Lab6\\Tools\\codeql-queries\\codeql-queries\\java\\ql\\src\\Security\\CWE\\CWE-190\\ArithmeticUncontrolled.ql.\n",
      "[39/122] Found in cache: C:\\Sidd all in one\\Unsafe\\Lab6\\Tools\\codeql-queries\\codeql-queries\\java\\ql\\src\\Security\\CWE\\CWE-190\\ArithmeticUncontrolled.ql.\n",
      "Compiling query plan for C:\\Sidd all in one\\Unsafe\\Lab6\\Tools\\codeql-queries\\codeql-queries\\java\\ql\\src\\Security\\CWE\\CWE-190\\ArithmeticWithExtremeValues.ql.\n",
      "[40/122] Found in cache: C:\\Sidd all in one\\Unsafe\\Lab6\\Tools\\codeql-queries\\codeql-queries\\java\\ql\\src\\Security\\CWE\\CWE-190\\ArithmeticWithExtremeValues.ql.\n",
      "Compiling query plan for C:\\Sidd all in one\\Unsafe\\Lab6\\Tools\\codeql-queries\\codeql-queries\\java\\ql\\src\\Security\\CWE\\CWE-190\\ComparisonWithWiderType.ql.\n",
      "[41/122] Found in cache: C:\\Sidd all in one\\Unsafe\\Lab6\\Tools\\codeql-queries\\codeql-queries\\java\\ql\\src\\Security\\CWE\\CWE-190\\ComparisonWithWiderType.ql.\n",
      "Compiling query plan for C:\\Sidd all in one\\Unsafe\\Lab6\\Tools\\codeql-queries\\codeql-queries\\java\\ql\\src\\Security\\CWE\\CWE-200\\AndroidSensitiveNotifications.ql.\n",
      "[42/122] Found in cache: C:\\Sidd all in one\\Unsafe\\Lab6\\Tools\\codeql-queries\\codeql-queries\\java\\ql\\src\\Security\\CWE\\CWE-200\\AndroidSensitiveNotifications.ql.\n",
      "Compiling query plan for C:\\Sidd all in one\\Unsafe\\Lab6\\Tools\\codeql-queries\\codeql-queries\\java\\ql\\src\\Security\\CWE\\CWE-200\\AndroidSensitiveTextField.ql.\n",
      "[43/122] Found in cache: C:\\Sidd all in one\\Unsafe\\Lab6\\Tools\\codeql-queries\\codeql-queries\\java\\ql\\src\\Security\\CWE\\CWE-200\\AndroidSensitiveTextField.ql.\n",
      "Compiling query plan for C:\\Sidd all in one\\Unsafe\\Lab6\\Tools\\codeql-queries\\codeql-queries\\java\\ql\\src\\Security\\CWE\\CWE-200\\AndroidWebViewSettingsAllowsContentAccess.ql.\n",
      "[44/122] Found in cache: C:\\Sidd all in one\\Unsafe\\Lab6\\Tools\\codeql-queries\\codeql-queries\\java\\ql\\src\\Security\\CWE\\CWE-200\\AndroidWebViewSettingsAllowsContentAccess.ql.\n",
      "Compiling query plan for C:\\Sidd all in one\\Unsafe\\Lab6\\Tools\\codeql-queries\\codeql-queries\\java\\ql\\src\\Security\\CWE\\CWE-200\\AndroidWebViewSettingsFileAccess.ql.\n",
      "[45/122] Found in cache: C:\\Sidd all in one\\Unsafe\\Lab6\\Tools\\codeql-queries\\codeql-queries\\java\\ql\\src\\Security\\CWE\\CWE-200\\AndroidWebViewSettingsFileAccess.ql.\n",
      "Compiling query plan for C:\\Sidd all in one\\Unsafe\\Lab6\\Tools\\codeql-queries\\codeql-queries\\java\\ql\\src\\Security\\CWE\\CWE-200\\SpringBootActuators.ql.\n",
      "[46/122] Found in cache: C:\\Sidd all in one\\Unsafe\\Lab6\\Tools\\codeql-queries\\codeql-queries\\java\\ql\\src\\Security\\CWE\\CWE-200\\SpringBootActuators.ql.\n",
      "Compiling query plan for C:\\Sidd all in one\\Unsafe\\Lab6\\Tools\\codeql-queries\\codeql-queries\\java\\ql\\src\\Security\\CWE\\CWE-200\\SpringBootActuatorsConfig\\SpringBootActuatorsConfig.ql.\n",
      "[47/122] Found in cache: C:\\Sidd all in one\\Unsafe\\Lab6\\Tools\\codeql-queries\\codeql-queries\\java\\ql\\src\\Security\\CWE\\CWE-200\\SpringBootActuatorsConfig\\SpringBootActuatorsConfig.ql.\n",
      "Compiling query plan for C:\\Sidd all in one\\Unsafe\\Lab6\\Tools\\codeql-queries\\codeql-queries\\java\\ql\\src\\Security\\CWE\\CWE-200\\TempDirLocalInformationDisclosure.ql.\n",
      "[48/122] Found in cache: C:\\Sidd all in one\\Unsafe\\Lab6\\Tools\\codeql-queries\\codeql-queries\\java\\ql\\src\\Security\\CWE\\CWE-200\\TempDirLocalInformationDisclosure.ql.\n",
      "Compiling query plan for C:\\Sidd all in one\\Unsafe\\Lab6\\Tools\\codeql-queries\\codeql-queries\\java\\ql\\src\\Security\\CWE\\CWE-209\\SensitiveDataExposureThroughErrorMessage.ql.\n",
      "[49/122] Found in cache: C:\\Sidd all in one\\Unsafe\\Lab6\\Tools\\codeql-queries\\codeql-queries\\java\\ql\\src\\Security\\CWE\\CWE-209\\SensitiveDataExposureThroughErrorMessage.ql.\n",
      "Compiling query plan for C:\\Sidd all in one\\Unsafe\\Lab6\\Tools\\codeql-queries\\codeql-queries\\java\\ql\\src\\Security\\CWE\\CWE-209\\StackTraceExposure.ql.\n",
      "[50/122] Found in cache: C:\\Sidd all in one\\Unsafe\\Lab6\\Tools\\codeql-queries\\codeql-queries\\java\\ql\\src\\Security\\CWE\\CWE-209\\StackTraceExposure.ql.\n",
      "Compiling query plan for C:\\Sidd all in one\\Unsafe\\Lab6\\Tools\\codeql-queries\\codeql-queries\\java\\ql\\src\\Security\\CWE\\CWE-266\\IntentUriPermissionManipulation.ql.\n",
      "[51/122] Found in cache: C:\\Sidd all in one\\Unsafe\\Lab6\\Tools\\codeql-queries\\codeql-queries\\java\\ql\\src\\Security\\CWE\\CWE-266\\IntentUriPermissionManipulation.ql.\n",
      "Compiling query plan for C:\\Sidd all in one\\Unsafe\\Lab6\\Tools\\codeql-queries\\codeql-queries\\java\\ql\\src\\Security\\CWE\\CWE-273\\UnsafeCertTrust.ql.\n",
      "[52/122] Found in cache: C:\\Sidd all in one\\Unsafe\\Lab6\\Tools\\codeql-queries\\codeql-queries\\java\\ql\\src\\Security\\CWE\\CWE-273\\UnsafeCertTrust.ql.\n",
      "Compiling query plan for C:\\Sidd all in one\\Unsafe\\Lab6\\Tools\\codeql-queries\\codeql-queries\\java\\ql\\src\\Security\\CWE\\CWE-287\\AndroidInsecureKeys.ql.\n",
      "[53/122] Found in cache: C:\\Sidd all in one\\Unsafe\\Lab6\\Tools\\codeql-queries\\codeql-queries\\java\\ql\\src\\Security\\CWE\\CWE-287\\AndroidInsecureKeys.ql.\n",
      "Compiling query plan for C:\\Sidd all in one\\Unsafe\\Lab6\\Tools\\codeql-queries\\codeql-queries\\java\\ql\\src\\Security\\CWE\\CWE-287\\AndroidInsecureLocalAuthentication.ql.\n",
      "[54/122] Found in cache: C:\\Sidd all in one\\Unsafe\\Lab6\\Tools\\codeql-queries\\codeql-queries\\java\\ql\\src\\Security\\CWE\\CWE-287\\AndroidInsecureLocalAuthentication.ql.\n",
      "Compiling query plan for C:\\Sidd all in one\\Unsafe\\Lab6\\Tools\\codeql-queries\\codeql-queries\\java\\ql\\src\\Security\\CWE\\CWE-295\\AndroidMissingCertificatePinning.ql.\n",
      "[55/122] Found in cache: C:\\Sidd all in one\\Unsafe\\Lab6\\Tools\\codeql-queries\\codeql-queries\\java\\ql\\src\\Security\\CWE\\CWE-295\\AndroidMissingCertificatePinning.ql.\n",
      "Compiling query plan for C:\\Sidd all in one\\Unsafe\\Lab6\\Tools\\codeql-queries\\codeql-queries\\java\\ql\\src\\Security\\CWE\\CWE-295\\ImproperWebViewCertificateValidation.ql.\n",
      "[56/122] Found in cache: C:\\Sidd all in one\\Unsafe\\Lab6\\Tools\\codeql-queries\\codeql-queries\\java\\ql\\src\\Security\\CWE\\CWE-295\\ImproperWebViewCertificateValidation.ql.\n",
      "Compiling query plan for C:\\Sidd all in one\\Unsafe\\Lab6\\Tools\\codeql-queries\\codeql-queries\\java\\ql\\src\\Security\\CWE\\CWE-295\\InsecureTrustManager.ql.\n",
      "[57/122] Found in cache: C:\\Sidd all in one\\Unsafe\\Lab6\\Tools\\codeql-queries\\codeql-queries\\java\\ql\\src\\Security\\CWE\\CWE-295\\InsecureTrustManager.ql.\n",
      "Compiling query plan for C:\\Sidd all in one\\Unsafe\\Lab6\\Tools\\codeql-queries\\codeql-queries\\java\\ql\\src\\Security\\CWE\\CWE-297\\InsecureJavaMail.ql.\n",
      "[58/122] Found in cache: C:\\Sidd all in one\\Unsafe\\Lab6\\Tools\\codeql-queries\\codeql-queries\\java\\ql\\src\\Security\\CWE\\CWE-297\\InsecureJavaMail.ql.\n",
      "Compiling query plan for C:\\Sidd all in one\\Unsafe\\Lab6\\Tools\\codeql-queries\\codeql-queries\\java\\ql\\src\\Security\\CWE\\CWE-297\\UnsafeHostnameVerification.ql.\n",
      "[59/122] Found in cache: C:\\Sidd all in one\\Unsafe\\Lab6\\Tools\\codeql-queries\\codeql-queries\\java\\ql\\src\\Security\\CWE\\CWE-297\\UnsafeHostnameVerification.ql.\n",
      "Compiling query plan for C:\\Sidd all in one\\Unsafe\\Lab6\\Tools\\codeql-queries\\codeql-queries\\java\\ql\\src\\Security\\CWE\\CWE-312\\AllowBackupAttributeEnabled.ql.\n",
      "[60/122] Found in cache: C:\\Sidd all in one\\Unsafe\\Lab6\\Tools\\codeql-queries\\codeql-queries\\java\\ql\\src\\Security\\CWE\\CWE-312\\AllowBackupAttributeEnabled.ql.\n",
      "Compiling query plan for C:\\Sidd all in one\\Unsafe\\Lab6\\Tools\\codeql-queries\\codeql-queries\\java\\ql\\src\\Security\\CWE\\CWE-312\\CleartextStorageAndroidDatabase.ql.\n",
      "[61/122] Found in cache: C:\\Sidd all in one\\Unsafe\\Lab6\\Tools\\codeql-queries\\codeql-queries\\java\\ql\\src\\Security\\CWE\\CWE-312\\CleartextStorageAndroidDatabase.ql.\n",
      "Compiling query plan for C:\\Sidd all in one\\Unsafe\\Lab6\\Tools\\codeql-queries\\codeql-queries\\java\\ql\\src\\Security\\CWE\\CWE-312\\CleartextStorageAndroidFilesystem.ql.\n",
      "OpenJDK 64-Bit Server VM warning: INFO: os::commit_memory(0x00000007d1200000, 138412032, 0) failed; error='The paging file is too small for this operation to complete' (DOS error/errno=1455)\n",
      "\n",
      "\n",
      "Analyzing 'log4j'...\n",
      "  Running command: Tools\\codeql\\codeql.exe database analyze C:\\Sidd all in one\\Unsafe\\Lab6\\CodeQL-Databases\\log4j-codeql-db Tools\\codeql-queries\\codeql-queries\\java\\ql\\src\\Security\\CWE --format=sarif-latest --output=C:\\Sidd all in one\\Unsafe\\Lab6\\CodeQL-Databases\\log4j-codeql.sarif --ram=8000\n"
     ]
    }
   ],
   "source": [
    "# --- Run CodeQL Analysis ---\n",
    "print(\"\\nRunning CodeQL analysis...\")\n",
    "\n",
    "# Define the path to the Java security query suite within your cloned queries folder\n",
    "# Adjust 'java' if analyzing a different language\n",
    "query_suite = os.path.join(codeql_queries_path, \"java\", \"ql\", \"src\", \"Security\", \"CWE\")\n",
    "\n",
    "if not os.path.exists(query_suite):\n",
    "    print(f\"ERROR: Query suite path does not exist: {query_suite}\")\n",
    "else:\n",
    "    for name in repos.keys():\n",
    "        db_name = os.path.join(output_dir, f\"{name}-codeql-db\")\n",
    "        output_file = os.path.join(output_dir, f\"{name}-codeql.sarif\") # Outputting as SARIF (JSON format)\n",
    "        print(f\"\\nAnalyzing '{name}'...\")\n",
    "\n",
    "        # Check if database exists before analyzing\n",
    "        if not os.path.isdir(db_name):\n",
    "             print(f\"  ERROR: Database '{db_name}' not found. Skipping analysis.\")\n",
    "             continue\n",
    "\n",
    "        command = [\n",
    "            codeql_cli_path,\n",
    "            \"database\", \"analyze\", db_name,\n",
    "            query_suite,\n",
    "            \"--format=sarif-latest\", # Output format required by the lab [cite: 32]\n",
    "            f\"--output={output_file}\",\n",
    "            \"--ram=8000\" # Add rerun in case analysis was interrupted\n",
    "        ]\n",
    "\n",
    "        print(f\"  Running command: {' '.join(command)}\")\n",
    "        try:\n",
    "            result = subprocess.run(command, capture_output=True, text=True, check=True, encoding='utf-8', errors='ignore')\n",
    "            print(f\"  Successfully analyzed '{name}'. Results saved to '{output_file}'.\")\n",
    "            # print(\"  Output:\\n\", result.stdout) # Uncomment for detailed output\n",
    "        except subprocess.CalledProcessError as e:\n",
    "            print(f\"  ERROR analyzing '{name}':\")\n",
    "            print(f\"  Return Code: {e.returncode}\")\n",
    "            print(f\"  Stderr:\\n{e.stderr}\")\n",
    "            # print(f\"  Stdout:\\n{e.stdout}\") # Uncomment if stdout might contain error details\n",
    "        except Exception as e:\n",
    "             print(f\"  An unexpected error occurred: {e}\")\n",
    "\n",
    "\n",
    "print(\"\\nCodeQL analysis finished.\")"
   ]
  }
 ],
 "metadata": {
  "kernelspec": {
   "display_name": "Python 3",
   "language": "python",
   "name": "python3"
  },
  "language_info": {
   "codemirror_mode": {
    "name": "ipython",
    "version": 3
   },
   "file_extension": ".py",
   "mimetype": "text/x-python",
   "name": "python",
   "nbconvert_exporter": "python",
   "pygments_lexer": "ipython3",
   "version": "3.13.1"
  }
 },
 "nbformat": 4,
 "nbformat_minor": 5
}
